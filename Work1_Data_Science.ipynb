{
  "nbformat": 4,
  "nbformat_minor": 0,
  "metadata": {
    "colab": {
      "name": "Work1_Data-Science.ipynb",
      "provenance": [],
      "collapsed_sections": []
    },
    "kernelspec": {
      "name": "python3",
      "display_name": "Python 3"
    },
    "language_info": {
      "name": "python"
    }
  },
  "cells": [
    {
      "cell_type": "markdown",
      "metadata": {
        "id": "wrfuL8dXiqrL"
      },
      "source": [
        "Read the Dataset to DF"
      ]
    },
    {
      "cell_type": "code",
      "metadata": {
        "id": "23Bw3OENOEL2",
        "colab": {
          "base_uri": "https://localhost:8080/",
          "height": 419
        },
        "outputId": "e2fec915-506e-41c3-d131-6488716211d8"
      },
      "source": [
        "import pandas as pd\n",
        "DF = pd.read_csv('train-data.csv');\n",
        "DF"
      ],
      "execution_count": null,
      "outputs": [
        {
          "output_type": "execute_result",
          "data": {
            "text/html": [
              "<div>\n",
              "<style scoped>\n",
              "    .dataframe tbody tr th:only-of-type {\n",
              "        vertical-align: middle;\n",
              "    }\n",
              "\n",
              "    .dataframe tbody tr th {\n",
              "        vertical-align: top;\n",
              "    }\n",
              "\n",
              "    .dataframe thead th {\n",
              "        text-align: right;\n",
              "    }\n",
              "</style>\n",
              "<table border=\"1\" class=\"dataframe\">\n",
              "  <thead>\n",
              "    <tr style=\"text-align: right;\">\n",
              "      <th></th>\n",
              "      <th>Unnamed: 0</th>\n",
              "      <th>Name</th>\n",
              "      <th>Location</th>\n",
              "      <th>Year</th>\n",
              "      <th>Kilometers_Driven</th>\n",
              "      <th>Fuel_Type</th>\n",
              "      <th>Transmission</th>\n",
              "      <th>Owner_Type</th>\n",
              "      <th>Mileage</th>\n",
              "      <th>Engine</th>\n",
              "      <th>Power</th>\n",
              "      <th>Seats</th>\n",
              "      <th>New_Price</th>\n",
              "      <th>Price</th>\n",
              "    </tr>\n",
              "  </thead>\n",
              "  <tbody>\n",
              "    <tr>\n",
              "      <th>0</th>\n",
              "      <td>0</td>\n",
              "      <td>Maruti Wagon R LXI CNG</td>\n",
              "      <td>Mumbai</td>\n",
              "      <td>2010</td>\n",
              "      <td>72000</td>\n",
              "      <td>CNG</td>\n",
              "      <td>Manual</td>\n",
              "      <td>First</td>\n",
              "      <td>26.6 km/kg</td>\n",
              "      <td>998 CC</td>\n",
              "      <td>58.16 bhp</td>\n",
              "      <td>5.0</td>\n",
              "      <td>NaN</td>\n",
              "      <td>1.75</td>\n",
              "    </tr>\n",
              "    <tr>\n",
              "      <th>1</th>\n",
              "      <td>1</td>\n",
              "      <td>Hyundai Creta 1.6 CRDi SX Option</td>\n",
              "      <td>Pune</td>\n",
              "      <td>2015</td>\n",
              "      <td>41000</td>\n",
              "      <td>Diesel</td>\n",
              "      <td>Manual</td>\n",
              "      <td>First</td>\n",
              "      <td>19.67 kmpl</td>\n",
              "      <td>1582 CC</td>\n",
              "      <td>126.2 bhp</td>\n",
              "      <td>5.0</td>\n",
              "      <td>NaN</td>\n",
              "      <td>12.50</td>\n",
              "    </tr>\n",
              "    <tr>\n",
              "      <th>2</th>\n",
              "      <td>2</td>\n",
              "      <td>Honda Jazz V</td>\n",
              "      <td>Chennai</td>\n",
              "      <td>2011</td>\n",
              "      <td>46000</td>\n",
              "      <td>Petrol</td>\n",
              "      <td>Manual</td>\n",
              "      <td>First</td>\n",
              "      <td>18.2 kmpl</td>\n",
              "      <td>1199 CC</td>\n",
              "      <td>88.7 bhp</td>\n",
              "      <td>5.0</td>\n",
              "      <td>8.61 Lakh</td>\n",
              "      <td>4.50</td>\n",
              "    </tr>\n",
              "    <tr>\n",
              "      <th>3</th>\n",
              "      <td>3</td>\n",
              "      <td>Maruti Ertiga VDI</td>\n",
              "      <td>Chennai</td>\n",
              "      <td>2012</td>\n",
              "      <td>87000</td>\n",
              "      <td>Diesel</td>\n",
              "      <td>Manual</td>\n",
              "      <td>First</td>\n",
              "      <td>20.77 kmpl</td>\n",
              "      <td>1248 CC</td>\n",
              "      <td>88.76 bhp</td>\n",
              "      <td>7.0</td>\n",
              "      <td>NaN</td>\n",
              "      <td>6.00</td>\n",
              "    </tr>\n",
              "    <tr>\n",
              "      <th>4</th>\n",
              "      <td>4</td>\n",
              "      <td>Audi A4 New 2.0 TDI Multitronic</td>\n",
              "      <td>Coimbatore</td>\n",
              "      <td>2013</td>\n",
              "      <td>40670</td>\n",
              "      <td>Diesel</td>\n",
              "      <td>Automatic</td>\n",
              "      <td>Second</td>\n",
              "      <td>15.2 kmpl</td>\n",
              "      <td>1968 CC</td>\n",
              "      <td>140.8 bhp</td>\n",
              "      <td>5.0</td>\n",
              "      <td>NaN</td>\n",
              "      <td>17.74</td>\n",
              "    </tr>\n",
              "    <tr>\n",
              "      <th>...</th>\n",
              "      <td>...</td>\n",
              "      <td>...</td>\n",
              "      <td>...</td>\n",
              "      <td>...</td>\n",
              "      <td>...</td>\n",
              "      <td>...</td>\n",
              "      <td>...</td>\n",
              "      <td>...</td>\n",
              "      <td>...</td>\n",
              "      <td>...</td>\n",
              "      <td>...</td>\n",
              "      <td>...</td>\n",
              "      <td>...</td>\n",
              "      <td>...</td>\n",
              "    </tr>\n",
              "    <tr>\n",
              "      <th>6014</th>\n",
              "      <td>6014</td>\n",
              "      <td>Maruti Swift VDI</td>\n",
              "      <td>Delhi</td>\n",
              "      <td>2014</td>\n",
              "      <td>27365</td>\n",
              "      <td>Diesel</td>\n",
              "      <td>Manual</td>\n",
              "      <td>First</td>\n",
              "      <td>28.4 kmpl</td>\n",
              "      <td>1248 CC</td>\n",
              "      <td>74 bhp</td>\n",
              "      <td>5.0</td>\n",
              "      <td>7.88 Lakh</td>\n",
              "      <td>4.75</td>\n",
              "    </tr>\n",
              "    <tr>\n",
              "      <th>6015</th>\n",
              "      <td>6015</td>\n",
              "      <td>Hyundai Xcent 1.1 CRDi S</td>\n",
              "      <td>Jaipur</td>\n",
              "      <td>2015</td>\n",
              "      <td>100000</td>\n",
              "      <td>Diesel</td>\n",
              "      <td>Manual</td>\n",
              "      <td>First</td>\n",
              "      <td>24.4 kmpl</td>\n",
              "      <td>1120 CC</td>\n",
              "      <td>71 bhp</td>\n",
              "      <td>5.0</td>\n",
              "      <td>NaN</td>\n",
              "      <td>4.00</td>\n",
              "    </tr>\n",
              "    <tr>\n",
              "      <th>6016</th>\n",
              "      <td>6016</td>\n",
              "      <td>Mahindra Xylo D4 BSIV</td>\n",
              "      <td>Jaipur</td>\n",
              "      <td>2012</td>\n",
              "      <td>55000</td>\n",
              "      <td>Diesel</td>\n",
              "      <td>Manual</td>\n",
              "      <td>Second</td>\n",
              "      <td>14.0 kmpl</td>\n",
              "      <td>2498 CC</td>\n",
              "      <td>112 bhp</td>\n",
              "      <td>8.0</td>\n",
              "      <td>NaN</td>\n",
              "      <td>2.90</td>\n",
              "    </tr>\n",
              "    <tr>\n",
              "      <th>6017</th>\n",
              "      <td>6017</td>\n",
              "      <td>Maruti Wagon R VXI</td>\n",
              "      <td>Kolkata</td>\n",
              "      <td>2013</td>\n",
              "      <td>46000</td>\n",
              "      <td>Petrol</td>\n",
              "      <td>Manual</td>\n",
              "      <td>First</td>\n",
              "      <td>18.9 kmpl</td>\n",
              "      <td>998 CC</td>\n",
              "      <td>67.1 bhp</td>\n",
              "      <td>5.0</td>\n",
              "      <td>NaN</td>\n",
              "      <td>2.65</td>\n",
              "    </tr>\n",
              "    <tr>\n",
              "      <th>6018</th>\n",
              "      <td>6018</td>\n",
              "      <td>Chevrolet Beat Diesel</td>\n",
              "      <td>Hyderabad</td>\n",
              "      <td>2011</td>\n",
              "      <td>47000</td>\n",
              "      <td>Diesel</td>\n",
              "      <td>Manual</td>\n",
              "      <td>First</td>\n",
              "      <td>25.44 kmpl</td>\n",
              "      <td>936 CC</td>\n",
              "      <td>57.6 bhp</td>\n",
              "      <td>5.0</td>\n",
              "      <td>NaN</td>\n",
              "      <td>2.50</td>\n",
              "    </tr>\n",
              "  </tbody>\n",
              "</table>\n",
              "<p>6019 rows × 14 columns</p>\n",
              "</div>"
            ],
            "text/plain": [
              "      Unnamed: 0                              Name  ...  New_Price  Price\n",
              "0              0            Maruti Wagon R LXI CNG  ...        NaN   1.75\n",
              "1              1  Hyundai Creta 1.6 CRDi SX Option  ...        NaN  12.50\n",
              "2              2                      Honda Jazz V  ...  8.61 Lakh   4.50\n",
              "3              3                 Maruti Ertiga VDI  ...        NaN   6.00\n",
              "4              4   Audi A4 New 2.0 TDI Multitronic  ...        NaN  17.74\n",
              "...          ...                               ...  ...        ...    ...\n",
              "6014        6014                  Maruti Swift VDI  ...  7.88 Lakh   4.75\n",
              "6015        6015          Hyundai Xcent 1.1 CRDi S  ...        NaN   4.00\n",
              "6016        6016             Mahindra Xylo D4 BSIV  ...        NaN   2.90\n",
              "6017        6017                Maruti Wagon R VXI  ...        NaN   2.65\n",
              "6018        6018             Chevrolet Beat Diesel  ...        NaN   2.50\n",
              "\n",
              "[6019 rows x 14 columns]"
            ]
          },
          "metadata": {
            "tags": []
          },
          "execution_count": 1
        }
      ]
    },
    {
      "cell_type": "markdown",
      "metadata": {
        "id": "H26vA4aci-Or"
      },
      "source": [
        "We take off all the non-numeric parameters and take off the units of some parameters"
      ]
    },
    {
      "cell_type": "code",
      "metadata": {
        "colab": {
          "base_uri": "https://localhost:8080/"
        },
        "id": "4XJnUWRhW-QV",
        "outputId": "f08a0b08-3cbe-4ca5-fb85-470123368de5"
      },
      "source": [
        "DF.info()"
      ],
      "execution_count": null,
      "outputs": [
        {
          "output_type": "stream",
          "text": [
            "<class 'pandas.core.frame.DataFrame'>\n",
            "RangeIndex: 6019 entries, 0 to 6018\n",
            "Data columns (total 14 columns):\n",
            " #   Column             Non-Null Count  Dtype  \n",
            "---  ------             --------------  -----  \n",
            " 0   Unnamed: 0         6019 non-null   int64  \n",
            " 1   Name               6019 non-null   object \n",
            " 2   Location           6019 non-null   object \n",
            " 3   Year               6019 non-null   int64  \n",
            " 4   Kilometers_Driven  6019 non-null   int64  \n",
            " 5   Fuel_Type          6019 non-null   object \n",
            " 6   Transmission       6019 non-null   object \n",
            " 7   Owner_Type         6019 non-null   object \n",
            " 8   Mileage            6017 non-null   object \n",
            " 9   Engine             5983 non-null   object \n",
            " 10  Power              5983 non-null   object \n",
            " 11  Seats              5977 non-null   float64\n",
            " 12  New_Price          824 non-null    object \n",
            " 13  Price              6019 non-null   float64\n",
            "dtypes: float64(2), int64(3), object(9)\n",
            "memory usage: 658.5+ KB\n"
          ],
          "name": "stdout"
        }
      ]
    },
    {
      "cell_type": "code",
      "metadata": {
        "colab": {
          "base_uri": "https://localhost:8080/",
          "height": 204
        },
        "id": "KEXDO4T5a7BO",
        "outputId": "bae6b9da-8f1f-41b1-d55d-51e7152d000f"
      },
      "source": [
        "DF.head()"
      ],
      "execution_count": null,
      "outputs": [
        {
          "output_type": "execute_result",
          "data": {
            "text/html": [
              "<div>\n",
              "<style scoped>\n",
              "    .dataframe tbody tr th:only-of-type {\n",
              "        vertical-align: middle;\n",
              "    }\n",
              "\n",
              "    .dataframe tbody tr th {\n",
              "        vertical-align: top;\n",
              "    }\n",
              "\n",
              "    .dataframe thead th {\n",
              "        text-align: right;\n",
              "    }\n",
              "</style>\n",
              "<table border=\"1\" class=\"dataframe\">\n",
              "  <thead>\n",
              "    <tr style=\"text-align: right;\">\n",
              "      <th></th>\n",
              "      <th>Unnamed: 0</th>\n",
              "      <th>Name</th>\n",
              "      <th>Location</th>\n",
              "      <th>Year</th>\n",
              "      <th>Kilometers_Driven</th>\n",
              "      <th>Fuel_Type</th>\n",
              "      <th>Transmission</th>\n",
              "      <th>Owner_Type</th>\n",
              "      <th>Mileage</th>\n",
              "      <th>Engine</th>\n",
              "      <th>Power</th>\n",
              "      <th>Seats</th>\n",
              "      <th>New_Price</th>\n",
              "      <th>Price</th>\n",
              "    </tr>\n",
              "  </thead>\n",
              "  <tbody>\n",
              "    <tr>\n",
              "      <th>0</th>\n",
              "      <td>0</td>\n",
              "      <td>Maruti Wagon R LXI CNG</td>\n",
              "      <td>Mumbai</td>\n",
              "      <td>2010</td>\n",
              "      <td>72000</td>\n",
              "      <td>CNG</td>\n",
              "      <td>Manual</td>\n",
              "      <td>First</td>\n",
              "      <td>26.6 km/kg</td>\n",
              "      <td>998 CC</td>\n",
              "      <td>58.16 bhp</td>\n",
              "      <td>5.0</td>\n",
              "      <td>NaN</td>\n",
              "      <td>1.75</td>\n",
              "    </tr>\n",
              "    <tr>\n",
              "      <th>1</th>\n",
              "      <td>1</td>\n",
              "      <td>Hyundai Creta 1.6 CRDi SX Option</td>\n",
              "      <td>Pune</td>\n",
              "      <td>2015</td>\n",
              "      <td>41000</td>\n",
              "      <td>Diesel</td>\n",
              "      <td>Manual</td>\n",
              "      <td>First</td>\n",
              "      <td>19.67 kmpl</td>\n",
              "      <td>1582 CC</td>\n",
              "      <td>126.2 bhp</td>\n",
              "      <td>5.0</td>\n",
              "      <td>NaN</td>\n",
              "      <td>12.50</td>\n",
              "    </tr>\n",
              "    <tr>\n",
              "      <th>2</th>\n",
              "      <td>2</td>\n",
              "      <td>Honda Jazz V</td>\n",
              "      <td>Chennai</td>\n",
              "      <td>2011</td>\n",
              "      <td>46000</td>\n",
              "      <td>Petrol</td>\n",
              "      <td>Manual</td>\n",
              "      <td>First</td>\n",
              "      <td>18.2 kmpl</td>\n",
              "      <td>1199 CC</td>\n",
              "      <td>88.7 bhp</td>\n",
              "      <td>5.0</td>\n",
              "      <td>8.61 Lakh</td>\n",
              "      <td>4.50</td>\n",
              "    </tr>\n",
              "    <tr>\n",
              "      <th>3</th>\n",
              "      <td>3</td>\n",
              "      <td>Maruti Ertiga VDI</td>\n",
              "      <td>Chennai</td>\n",
              "      <td>2012</td>\n",
              "      <td>87000</td>\n",
              "      <td>Diesel</td>\n",
              "      <td>Manual</td>\n",
              "      <td>First</td>\n",
              "      <td>20.77 kmpl</td>\n",
              "      <td>1248 CC</td>\n",
              "      <td>88.76 bhp</td>\n",
              "      <td>7.0</td>\n",
              "      <td>NaN</td>\n",
              "      <td>6.00</td>\n",
              "    </tr>\n",
              "    <tr>\n",
              "      <th>4</th>\n",
              "      <td>4</td>\n",
              "      <td>Audi A4 New 2.0 TDI Multitronic</td>\n",
              "      <td>Coimbatore</td>\n",
              "      <td>2013</td>\n",
              "      <td>40670</td>\n",
              "      <td>Diesel</td>\n",
              "      <td>Automatic</td>\n",
              "      <td>Second</td>\n",
              "      <td>15.2 kmpl</td>\n",
              "      <td>1968 CC</td>\n",
              "      <td>140.8 bhp</td>\n",
              "      <td>5.0</td>\n",
              "      <td>NaN</td>\n",
              "      <td>17.74</td>\n",
              "    </tr>\n",
              "  </tbody>\n",
              "</table>\n",
              "</div>"
            ],
            "text/plain": [
              "   Unnamed: 0                              Name  ...  New_Price  Price\n",
              "0           0            Maruti Wagon R LXI CNG  ...        NaN   1.75\n",
              "1           1  Hyundai Creta 1.6 CRDi SX Option  ...        NaN  12.50\n",
              "2           2                      Honda Jazz V  ...  8.61 Lakh   4.50\n",
              "3           3                 Maruti Ertiga VDI  ...        NaN   6.00\n",
              "4           4   Audi A4 New 2.0 TDI Multitronic  ...        NaN  17.74\n",
              "\n",
              "[5 rows x 14 columns]"
            ]
          },
          "metadata": {
            "tags": []
          },
          "execution_count": 3
        }
      ]
    },
    {
      "cell_type": "code",
      "metadata": {
        "colab": {
          "base_uri": "https://localhost:8080/",
          "height": 204
        },
        "id": "WdPln5nWXm0S",
        "outputId": "9904954b-5f79-47f7-c6e9-810422230f20"
      },
      "source": [
        "DF1 = DF[['Year','Kilometers_Driven','Mileage','Engine','Seats','Price','Power']]\n",
        "DF1.head()"
      ],
      "execution_count": null,
      "outputs": [
        {
          "output_type": "execute_result",
          "data": {
            "text/html": [
              "<div>\n",
              "<style scoped>\n",
              "    .dataframe tbody tr th:only-of-type {\n",
              "        vertical-align: middle;\n",
              "    }\n",
              "\n",
              "    .dataframe tbody tr th {\n",
              "        vertical-align: top;\n",
              "    }\n",
              "\n",
              "    .dataframe thead th {\n",
              "        text-align: right;\n",
              "    }\n",
              "</style>\n",
              "<table border=\"1\" class=\"dataframe\">\n",
              "  <thead>\n",
              "    <tr style=\"text-align: right;\">\n",
              "      <th></th>\n",
              "      <th>Year</th>\n",
              "      <th>Kilometers_Driven</th>\n",
              "      <th>Mileage</th>\n",
              "      <th>Engine</th>\n",
              "      <th>Seats</th>\n",
              "      <th>Price</th>\n",
              "      <th>Power</th>\n",
              "    </tr>\n",
              "  </thead>\n",
              "  <tbody>\n",
              "    <tr>\n",
              "      <th>0</th>\n",
              "      <td>2010</td>\n",
              "      <td>72000</td>\n",
              "      <td>26.6 km/kg</td>\n",
              "      <td>998 CC</td>\n",
              "      <td>5.0</td>\n",
              "      <td>1.75</td>\n",
              "      <td>58.16 bhp</td>\n",
              "    </tr>\n",
              "    <tr>\n",
              "      <th>1</th>\n",
              "      <td>2015</td>\n",
              "      <td>41000</td>\n",
              "      <td>19.67 kmpl</td>\n",
              "      <td>1582 CC</td>\n",
              "      <td>5.0</td>\n",
              "      <td>12.50</td>\n",
              "      <td>126.2 bhp</td>\n",
              "    </tr>\n",
              "    <tr>\n",
              "      <th>2</th>\n",
              "      <td>2011</td>\n",
              "      <td>46000</td>\n",
              "      <td>18.2 kmpl</td>\n",
              "      <td>1199 CC</td>\n",
              "      <td>5.0</td>\n",
              "      <td>4.50</td>\n",
              "      <td>88.7 bhp</td>\n",
              "    </tr>\n",
              "    <tr>\n",
              "      <th>3</th>\n",
              "      <td>2012</td>\n",
              "      <td>87000</td>\n",
              "      <td>20.77 kmpl</td>\n",
              "      <td>1248 CC</td>\n",
              "      <td>7.0</td>\n",
              "      <td>6.00</td>\n",
              "      <td>88.76 bhp</td>\n",
              "    </tr>\n",
              "    <tr>\n",
              "      <th>4</th>\n",
              "      <td>2013</td>\n",
              "      <td>40670</td>\n",
              "      <td>15.2 kmpl</td>\n",
              "      <td>1968 CC</td>\n",
              "      <td>5.0</td>\n",
              "      <td>17.74</td>\n",
              "      <td>140.8 bhp</td>\n",
              "    </tr>\n",
              "  </tbody>\n",
              "</table>\n",
              "</div>"
            ],
            "text/plain": [
              "   Year  Kilometers_Driven     Mileage   Engine  Seats  Price      Power\n",
              "0  2010              72000  26.6 km/kg   998 CC    5.0   1.75  58.16 bhp\n",
              "1  2015              41000  19.67 kmpl  1582 CC    5.0  12.50  126.2 bhp\n",
              "2  2011              46000   18.2 kmpl  1199 CC    5.0   4.50   88.7 bhp\n",
              "3  2012              87000  20.77 kmpl  1248 CC    7.0   6.00  88.76 bhp\n",
              "4  2013              40670   15.2 kmpl  1968 CC    5.0  17.74  140.8 bhp"
            ]
          },
          "metadata": {
            "tags": []
          },
          "execution_count": 4
        }
      ]
    },
    {
      "cell_type": "code",
      "metadata": {
        "id": "v82-7Mhbd3Es",
        "colab": {
          "base_uri": "https://localhost:8080/"
        },
        "outputId": "574e650c-558c-48ad-b8a0-e999e31271d6"
      },
      "source": [
        "import pandas as pd\n",
        "DF1['Mileage'] = DF1['Mileage'].str.strip(\"kmg/kmpl\");\n",
        "DF1['Engine'] = DF1['Engine'].str.strip(\"CC\");\n",
        "DF1['Power'] = DF1['Power'].str.strip(\"bhp\");\n",
        "DF1['Power'] = DF1['Power'].str.strip(\"null bhp\");\n"
      ],
      "execution_count": null,
      "outputs": [
        {
          "output_type": "stream",
          "text": [
            "/usr/local/lib/python3.7/dist-packages/ipykernel_launcher.py:2: SettingWithCopyWarning: \n",
            "A value is trying to be set on a copy of a slice from a DataFrame.\n",
            "Try using .loc[row_indexer,col_indexer] = value instead\n",
            "\n",
            "See the caveats in the documentation: https://pandas.pydata.org/pandas-docs/stable/user_guide/indexing.html#returning-a-view-versus-a-copy\n",
            "  \n",
            "/usr/local/lib/python3.7/dist-packages/ipykernel_launcher.py:3: SettingWithCopyWarning: \n",
            "A value is trying to be set on a copy of a slice from a DataFrame.\n",
            "Try using .loc[row_indexer,col_indexer] = value instead\n",
            "\n",
            "See the caveats in the documentation: https://pandas.pydata.org/pandas-docs/stable/user_guide/indexing.html#returning-a-view-versus-a-copy\n",
            "  This is separate from the ipykernel package so we can avoid doing imports until\n",
            "/usr/local/lib/python3.7/dist-packages/ipykernel_launcher.py:4: SettingWithCopyWarning: \n",
            "A value is trying to be set on a copy of a slice from a DataFrame.\n",
            "Try using .loc[row_indexer,col_indexer] = value instead\n",
            "\n",
            "See the caveats in the documentation: https://pandas.pydata.org/pandas-docs/stable/user_guide/indexing.html#returning-a-view-versus-a-copy\n",
            "  after removing the cwd from sys.path.\n",
            "/usr/local/lib/python3.7/dist-packages/ipykernel_launcher.py:5: SettingWithCopyWarning: \n",
            "A value is trying to be set on a copy of a slice from a DataFrame.\n",
            "Try using .loc[row_indexer,col_indexer] = value instead\n",
            "\n",
            "See the caveats in the documentation: https://pandas.pydata.org/pandas-docs/stable/user_guide/indexing.html#returning-a-view-versus-a-copy\n",
            "  \"\"\"\n"
          ],
          "name": "stderr"
        }
      ]
    },
    {
      "cell_type": "code",
      "metadata": {
        "colab": {
          "base_uri": "https://localhost:8080/"
        },
        "id": "9wMHsvdqdyoM",
        "outputId": "5bea5e57-5e3a-4f93-a626-a28f1d5bd2eb"
      },
      "source": [
        "import pandas as pd\n",
        "DF1['Engine'] =  pd.to_numeric(DF1['Engine'])\n",
        "DF1['Mileage'] = pd.to_numeric(DF1['Mileage'])\n",
        "DF1['Power'] = pd.to_numeric(DF1['Power'])"
      ],
      "execution_count": null,
      "outputs": [
        {
          "output_type": "stream",
          "text": [
            "/usr/local/lib/python3.7/dist-packages/ipykernel_launcher.py:2: SettingWithCopyWarning: \n",
            "A value is trying to be set on a copy of a slice from a DataFrame.\n",
            "Try using .loc[row_indexer,col_indexer] = value instead\n",
            "\n",
            "See the caveats in the documentation: https://pandas.pydata.org/pandas-docs/stable/user_guide/indexing.html#returning-a-view-versus-a-copy\n",
            "  \n",
            "/usr/local/lib/python3.7/dist-packages/ipykernel_launcher.py:3: SettingWithCopyWarning: \n",
            "A value is trying to be set on a copy of a slice from a DataFrame.\n",
            "Try using .loc[row_indexer,col_indexer] = value instead\n",
            "\n",
            "See the caveats in the documentation: https://pandas.pydata.org/pandas-docs/stable/user_guide/indexing.html#returning-a-view-versus-a-copy\n",
            "  This is separate from the ipykernel package so we can avoid doing imports until\n",
            "/usr/local/lib/python3.7/dist-packages/ipykernel_launcher.py:4: SettingWithCopyWarning: \n",
            "A value is trying to be set on a copy of a slice from a DataFrame.\n",
            "Try using .loc[row_indexer,col_indexer] = value instead\n",
            "\n",
            "See the caveats in the documentation: https://pandas.pydata.org/pandas-docs/stable/user_guide/indexing.html#returning-a-view-versus-a-copy\n",
            "  after removing the cwd from sys.path.\n"
          ],
          "name": "stderr"
        }
      ]
    },
    {
      "cell_type": "code",
      "metadata": {
        "colab": {
          "base_uri": "https://localhost:8080/",
          "height": 419
        },
        "id": "yt3H4r0fcjJc",
        "outputId": "11652e8d-7cbf-414c-815d-c5f15a28db6e"
      },
      "source": [
        "DF1=DF1.dropna()\n",
        "DF1"
      ],
      "execution_count": null,
      "outputs": [
        {
          "output_type": "execute_result",
          "data": {
            "text/html": [
              "<div>\n",
              "<style scoped>\n",
              "    .dataframe tbody tr th:only-of-type {\n",
              "        vertical-align: middle;\n",
              "    }\n",
              "\n",
              "    .dataframe tbody tr th {\n",
              "        vertical-align: top;\n",
              "    }\n",
              "\n",
              "    .dataframe thead th {\n",
              "        text-align: right;\n",
              "    }\n",
              "</style>\n",
              "<table border=\"1\" class=\"dataframe\">\n",
              "  <thead>\n",
              "    <tr style=\"text-align: right;\">\n",
              "      <th></th>\n",
              "      <th>Year</th>\n",
              "      <th>Kilometers_Driven</th>\n",
              "      <th>Mileage</th>\n",
              "      <th>Engine</th>\n",
              "      <th>Seats</th>\n",
              "      <th>Price</th>\n",
              "      <th>Power</th>\n",
              "    </tr>\n",
              "  </thead>\n",
              "  <tbody>\n",
              "    <tr>\n",
              "      <th>0</th>\n",
              "      <td>2010</td>\n",
              "      <td>72000</td>\n",
              "      <td>26.60</td>\n",
              "      <td>998.0</td>\n",
              "      <td>5.0</td>\n",
              "      <td>1.75</td>\n",
              "      <td>58.16</td>\n",
              "    </tr>\n",
              "    <tr>\n",
              "      <th>1</th>\n",
              "      <td>2015</td>\n",
              "      <td>41000</td>\n",
              "      <td>19.67</td>\n",
              "      <td>1582.0</td>\n",
              "      <td>5.0</td>\n",
              "      <td>12.50</td>\n",
              "      <td>126.20</td>\n",
              "    </tr>\n",
              "    <tr>\n",
              "      <th>2</th>\n",
              "      <td>2011</td>\n",
              "      <td>46000</td>\n",
              "      <td>18.20</td>\n",
              "      <td>1199.0</td>\n",
              "      <td>5.0</td>\n",
              "      <td>4.50</td>\n",
              "      <td>88.70</td>\n",
              "    </tr>\n",
              "    <tr>\n",
              "      <th>3</th>\n",
              "      <td>2012</td>\n",
              "      <td>87000</td>\n",
              "      <td>20.77</td>\n",
              "      <td>1248.0</td>\n",
              "      <td>7.0</td>\n",
              "      <td>6.00</td>\n",
              "      <td>88.76</td>\n",
              "    </tr>\n",
              "    <tr>\n",
              "      <th>4</th>\n",
              "      <td>2013</td>\n",
              "      <td>40670</td>\n",
              "      <td>15.20</td>\n",
              "      <td>1968.0</td>\n",
              "      <td>5.0</td>\n",
              "      <td>17.74</td>\n",
              "      <td>140.80</td>\n",
              "    </tr>\n",
              "    <tr>\n",
              "      <th>...</th>\n",
              "      <td>...</td>\n",
              "      <td>...</td>\n",
              "      <td>...</td>\n",
              "      <td>...</td>\n",
              "      <td>...</td>\n",
              "      <td>...</td>\n",
              "      <td>...</td>\n",
              "    </tr>\n",
              "    <tr>\n",
              "      <th>6014</th>\n",
              "      <td>2014</td>\n",
              "      <td>27365</td>\n",
              "      <td>28.40</td>\n",
              "      <td>1248.0</td>\n",
              "      <td>5.0</td>\n",
              "      <td>4.75</td>\n",
              "      <td>74.00</td>\n",
              "    </tr>\n",
              "    <tr>\n",
              "      <th>6015</th>\n",
              "      <td>2015</td>\n",
              "      <td>100000</td>\n",
              "      <td>24.40</td>\n",
              "      <td>1120.0</td>\n",
              "      <td>5.0</td>\n",
              "      <td>4.00</td>\n",
              "      <td>71.00</td>\n",
              "    </tr>\n",
              "    <tr>\n",
              "      <th>6016</th>\n",
              "      <td>2012</td>\n",
              "      <td>55000</td>\n",
              "      <td>14.00</td>\n",
              "      <td>2498.0</td>\n",
              "      <td>8.0</td>\n",
              "      <td>2.90</td>\n",
              "      <td>112.00</td>\n",
              "    </tr>\n",
              "    <tr>\n",
              "      <th>6017</th>\n",
              "      <td>2013</td>\n",
              "      <td>46000</td>\n",
              "      <td>18.90</td>\n",
              "      <td>998.0</td>\n",
              "      <td>5.0</td>\n",
              "      <td>2.65</td>\n",
              "      <td>67.10</td>\n",
              "    </tr>\n",
              "    <tr>\n",
              "      <th>6018</th>\n",
              "      <td>2011</td>\n",
              "      <td>47000</td>\n",
              "      <td>25.44</td>\n",
              "      <td>936.0</td>\n",
              "      <td>5.0</td>\n",
              "      <td>2.50</td>\n",
              "      <td>57.60</td>\n",
              "    </tr>\n",
              "  </tbody>\n",
              "</table>\n",
              "<p>5872 rows × 7 columns</p>\n",
              "</div>"
            ],
            "text/plain": [
              "      Year  Kilometers_Driven  Mileage  Engine  Seats  Price   Power\n",
              "0     2010              72000    26.60   998.0    5.0   1.75   58.16\n",
              "1     2015              41000    19.67  1582.0    5.0  12.50  126.20\n",
              "2     2011              46000    18.20  1199.0    5.0   4.50   88.70\n",
              "3     2012              87000    20.77  1248.0    7.0   6.00   88.76\n",
              "4     2013              40670    15.20  1968.0    5.0  17.74  140.80\n",
              "...    ...                ...      ...     ...    ...    ...     ...\n",
              "6014  2014              27365    28.40  1248.0    5.0   4.75   74.00\n",
              "6015  2015             100000    24.40  1120.0    5.0   4.00   71.00\n",
              "6016  2012              55000    14.00  2498.0    8.0   2.90  112.00\n",
              "6017  2013              46000    18.90   998.0    5.0   2.65   67.10\n",
              "6018  2011              47000    25.44   936.0    5.0   2.50   57.60\n",
              "\n",
              "[5872 rows x 7 columns]"
            ]
          },
          "metadata": {
            "tags": []
          },
          "execution_count": 7
        }
      ]
    },
    {
      "cell_type": "code",
      "metadata": {
        "colab": {
          "base_uri": "https://localhost:8080/"
        },
        "id": "B1E-wnwUcxTm",
        "outputId": "ce0b94ba-e972-4689-d831-ae56b025ccdd"
      },
      "source": [
        "DF1.info()"
      ],
      "execution_count": null,
      "outputs": [
        {
          "output_type": "stream",
          "text": [
            "<class 'pandas.core.frame.DataFrame'>\n",
            "Int64Index: 5872 entries, 0 to 6018\n",
            "Data columns (total 7 columns):\n",
            " #   Column             Non-Null Count  Dtype  \n",
            "---  ------             --------------  -----  \n",
            " 0   Year               5872 non-null   int64  \n",
            " 1   Kilometers_Driven  5872 non-null   int64  \n",
            " 2   Mileage            5872 non-null   float64\n",
            " 3   Engine             5872 non-null   float64\n",
            " 4   Seats              5872 non-null   float64\n",
            " 5   Price              5872 non-null   float64\n",
            " 6   Power              5872 non-null   float64\n",
            "dtypes: float64(5), int64(2)\n",
            "memory usage: 367.0 KB\n"
          ],
          "name": "stdout"
        }
      ]
    },
    {
      "cell_type": "code",
      "metadata": {
        "colab": {
          "base_uri": "https://localhost:8080/"
        },
        "id": "Pn9lcR8Yc8Ce",
        "outputId": "61ba23b8-dbb0-4d72-f7ac-3430a23c0e9b"
      },
      "source": [
        "per = ((6019-5872)/6019)*100\n",
        "per"
      ],
      "execution_count": null,
      "outputs": [
        {
          "output_type": "execute_result",
          "data": {
            "text/plain": [
              "2.442266157168965"
            ]
          },
          "metadata": {
            "tags": []
          },
          "execution_count": 9
        }
      ]
    },
    {
      "cell_type": "markdown",
      "metadata": {
        "id": "_rtB_CBAjnfU"
      },
      "source": [
        "We calculate the minimum and the maximum values of each parameter to calculate the bins and the range of the graphs."
      ]
    },
    {
      "cell_type": "code",
      "metadata": {
        "colab": {
          "base_uri": "https://localhost:8080/",
          "height": 297
        },
        "id": "P1H18hZFdq-c",
        "outputId": "beceafea-398b-4621-bbaa-92c71d4d6c11"
      },
      "source": [
        "statdata = DF1.describe()\n",
        "statdata"
      ],
      "execution_count": null,
      "outputs": [
        {
          "output_type": "execute_result",
          "data": {
            "text/html": [
              "<div>\n",
              "<style scoped>\n",
              "    .dataframe tbody tr th:only-of-type {\n",
              "        vertical-align: middle;\n",
              "    }\n",
              "\n",
              "    .dataframe tbody tr th {\n",
              "        vertical-align: top;\n",
              "    }\n",
              "\n",
              "    .dataframe thead th {\n",
              "        text-align: right;\n",
              "    }\n",
              "</style>\n",
              "<table border=\"1\" class=\"dataframe\">\n",
              "  <thead>\n",
              "    <tr style=\"text-align: right;\">\n",
              "      <th></th>\n",
              "      <th>Year</th>\n",
              "      <th>Kilometers_Driven</th>\n",
              "      <th>Mileage</th>\n",
              "      <th>Engine</th>\n",
              "      <th>Seats</th>\n",
              "      <th>Price</th>\n",
              "      <th>Power</th>\n",
              "    </tr>\n",
              "  </thead>\n",
              "  <tbody>\n",
              "    <tr>\n",
              "      <th>count</th>\n",
              "      <td>5872.000000</td>\n",
              "      <td>5.872000e+03</td>\n",
              "      <td>5872.000000</td>\n",
              "      <td>5872.000000</td>\n",
              "      <td>5872.000000</td>\n",
              "      <td>5872.000000</td>\n",
              "      <td>5872.000000</td>\n",
              "    </tr>\n",
              "    <tr>\n",
              "      <th>mean</th>\n",
              "      <td>2013.477691</td>\n",
              "      <td>5.831700e+04</td>\n",
              "      <td>18.277839</td>\n",
              "      <td>1625.745572</td>\n",
              "      <td>5.283719</td>\n",
              "      <td>9.603919</td>\n",
              "      <td>113.276894</td>\n",
              "    </tr>\n",
              "    <tr>\n",
              "      <th>std</th>\n",
              "      <td>3.164568</td>\n",
              "      <td>9.216941e+04</td>\n",
              "      <td>4.365657</td>\n",
              "      <td>601.641783</td>\n",
              "      <td>0.805081</td>\n",
              "      <td>11.249453</td>\n",
              "      <td>53.881892</td>\n",
              "    </tr>\n",
              "    <tr>\n",
              "      <th>min</th>\n",
              "      <td>1998.000000</td>\n",
              "      <td>1.710000e+02</td>\n",
              "      <td>0.000000</td>\n",
              "      <td>624.000000</td>\n",
              "      <td>2.000000</td>\n",
              "      <td>0.440000</td>\n",
              "      <td>34.200000</td>\n",
              "    </tr>\n",
              "    <tr>\n",
              "      <th>25%</th>\n",
              "      <td>2012.000000</td>\n",
              "      <td>3.342250e+04</td>\n",
              "      <td>15.260000</td>\n",
              "      <td>1198.000000</td>\n",
              "      <td>5.000000</td>\n",
              "      <td>3.517500</td>\n",
              "      <td>75.000000</td>\n",
              "    </tr>\n",
              "    <tr>\n",
              "      <th>50%</th>\n",
              "      <td>2014.000000</td>\n",
              "      <td>5.260900e+04</td>\n",
              "      <td>18.200000</td>\n",
              "      <td>1495.500000</td>\n",
              "      <td>5.000000</td>\n",
              "      <td>5.750000</td>\n",
              "      <td>97.700000</td>\n",
              "    </tr>\n",
              "    <tr>\n",
              "      <th>75%</th>\n",
              "      <td>2016.000000</td>\n",
              "      <td>7.240275e+04</td>\n",
              "      <td>21.100000</td>\n",
              "      <td>1991.000000</td>\n",
              "      <td>5.000000</td>\n",
              "      <td>10.000000</td>\n",
              "      <td>138.100000</td>\n",
              "    </tr>\n",
              "    <tr>\n",
              "      <th>max</th>\n",
              "      <td>2019.000000</td>\n",
              "      <td>6.500000e+06</td>\n",
              "      <td>33.540000</td>\n",
              "      <td>5998.000000</td>\n",
              "      <td>10.000000</td>\n",
              "      <td>160.000000</td>\n",
              "      <td>560.000000</td>\n",
              "    </tr>\n",
              "  </tbody>\n",
              "</table>\n",
              "</div>"
            ],
            "text/plain": [
              "              Year  Kilometers_Driven  ...        Price        Power\n",
              "count  5872.000000       5.872000e+03  ...  5872.000000  5872.000000\n",
              "mean   2013.477691       5.831700e+04  ...     9.603919   113.276894\n",
              "std       3.164568       9.216941e+04  ...    11.249453    53.881892\n",
              "min    1998.000000       1.710000e+02  ...     0.440000    34.200000\n",
              "25%    2012.000000       3.342250e+04  ...     3.517500    75.000000\n",
              "50%    2014.000000       5.260900e+04  ...     5.750000    97.700000\n",
              "75%    2016.000000       7.240275e+04  ...    10.000000   138.100000\n",
              "max    2019.000000       6.500000e+06  ...   160.000000   560.000000\n",
              "\n",
              "[8 rows x 7 columns]"
            ]
          },
          "metadata": {
            "tags": []
          },
          "execution_count": 10
        }
      ]
    },
    {
      "cell_type": "code",
      "metadata": {
        "colab": {
          "base_uri": "https://localhost:8080/"
        },
        "id": "WVqe1n8Yfv9W",
        "outputId": "77a260e9-1a9a-416c-811a-ade5a7eefb56"
      },
      "source": [
        "print (DF1.loc[DF1['Kilometers_Driven'].idxmax()])\n",
        "DF1 = DF1.drop(2328,axis = 0)"
      ],
      "execution_count": null,
      "outputs": [
        {
          "output_type": "stream",
          "text": [
            "Year                    2017.00\n",
            "Kilometers_Driven    6500000.00\n",
            "Mileage                   15.97\n",
            "Engine                  2993.00\n",
            "Seats                      5.00\n",
            "Price                     65.00\n",
            "Power                    258.00\n",
            "Name: 2328, dtype: float64\n"
          ],
          "name": "stdout"
        }
      ]
    },
    {
      "cell_type": "markdown",
      "metadata": {
        "id": "MRqg1i2kkEcm"
      },
      "source": [
        "We plot the Graphs"
      ]
    },
    {
      "cell_type": "code",
      "metadata": {
        "id": "NUBCVw1rD9B-",
        "colab": {
          "base_uri": "https://localhost:8080/",
          "height": 1000
        },
        "outputId": "237427d3-cccd-4dcc-d469-7be127da7ef3"
      },
      "source": [
        "import matplotlib.pyplot as plt\n",
        "plt.Figure();\n",
        "plt.hist(DF1['Seats']);\n",
        "plt.title('Seats');\n",
        "plt.xlabel('Number of Seats');\n",
        "plt.ylabel('Number of Vehicles');\n",
        "plt.show();\n",
        "\n",
        "plt.Figure();\n",
        "plt.hist(DF1['Year']);\n",
        "plt.title('Year');\n",
        "plt.xlabel('Year');\n",
        "plt.ylabel('Number of Vehicles');\n",
        "plt.show();\n",
        "\n",
        "plt.Figure();\n",
        "plt.plot(DF1['Price']);\n",
        "plt.title('Price');\n",
        "plt.xlabel('Number of Vehicles');\n",
        "plt.ylabel('Price');\n",
        "plt.show();\n",
        "\n",
        "plt.Figure();\n",
        "plt.hist(DF1['Kilometers_Driven']);\n",
        "plt.title('Kilometers');\n",
        "plt.xlabel('Kilometers');\n",
        "plt.ylabel('number of vehicles');\n",
        "plt.show();\n",
        "\n",
        "plt.Figure();\n",
        "plt.hist(DF1['Power']);\n",
        "plt.title('Power');\n",
        "plt.xlabel('Power');\n",
        "plt.ylabel('Number of vehicles');\n",
        "plt.show();\n",
        "\n",
        "plt.Figure();\n",
        "plt.hist(DF1['Engine']);\n",
        "plt.title('Engine');\n",
        "plt.xlabel('Number of Vehicles');\n",
        "plt.ylabel('Engine');\n",
        "plt.show();\n",
        "\n",
        "plt.Figure();\n",
        "plt.hist(DF1['Mileage']);\n",
        "plt.title('Mileage');\n",
        "plt.xlabel('Mileage');\n",
        "plt.ylabel('number of vehicles');\n",
        "plt.show();\n"
      ],
      "execution_count": null,
      "outputs": [
        {
          "output_type": "display_data",
          "data": {
            "image/png": "[encoded data removed]",
            "text/plain": [
              "<Figure size 432x288 with 1 Axes>"
            ]
          },
          "metadata": {
            "tags": [],
            "needs_background": "light"
          }
        },
        {
          "output_type": "display_data",
          "data": {
            "image/png": "[encoded data removed]",
            "text/plain": [
              "<Figure size 432x288 with 1 Axes>"
            ]
          },
          "metadata": {
            "tags": [],
            "needs_background": "light"
          }
        },
        {
          "output_type": "display_data",
          "data": {
            "image/png": "[encoded data removed]",
            "text/plain": [
              "<Figure size 432x288 with 1 Axes>"
            ]
          },
          "metadata": {
            "tags": [],
            "needs_background": "light"
          }
        },
        {
          "output_type": "display_data",
          "data": {
            "image/png": "[encoded data removed]",
            "text/plain": [
              "<Figure size 432x288 with 1 Axes>"
            ]
          },
          "metadata": {
            "tags": [],
            "needs_background": "light"
          }
        },
        {
          "output_type": "display_data",
          "data": {
            "image/png": "[encoded data removed]",
            "text/plain": [
              "<Figure size 432x288 with 1 Axes>"
            ]
          },
          "metadata": {
            "tags": [],
            "needs_background": "light"
          }
        },
        {
          "output_type": "display_data",
          "data": {
            "image/png": "[encoded data removed]",
            "text/plain": [
              "<Figure size 432x288 with 1 Axes>"
            ]
          },
          "metadata": {
            "tags": [],
            "needs_background": "light"
          }
        },
        {
          "output_type": "display_data",
          "data": {
            "image/png": "[encoded data removed]",
            "text/plain": [
              "<Figure size 432x288 with 1 Axes>"
            ]
          },
          "metadata": {
            "tags": [],
            "needs_background": "light"
          }
        }
      ]
    },
    {
      "cell_type": "code",
      "metadata": {
        "colab": {
          "base_uri": "https://localhost:8080/",
          "height": 1000
        },
        "id": "fn61Mxv-r55V",
        "outputId": "a16e4031-dccf-4e25-fd4d-1ade1bf24df1"
      },
      "source": [
        "import seaborn as sn\n",
        "pd.DataFrame(DF1['Year']).boxplot()\n",
        "plt.show()\n",
        "pd.DataFrame(DF1['Kilometers_Driven']).boxplot()\n",
        "plt.show()\n",
        "pd.DataFrame(DF1['Seats']).boxplot()\n",
        "plt.show()\n",
        "pd.DataFrame(DF1['Price']).boxplot()\n",
        "plt.show()\n",
        "pd.DataFrame(DF1['Power']).boxplot()\n",
        "plt.show()\n",
        "pd.DataFrame(DF1['Engine']).boxplot()\n",
        "plt.show()\n",
        "pd.DataFrame(DF1['Mileage']).boxplot()\n",
        "plt.show()"
      ],
      "execution_count": null,
      "outputs": [
        {
          "output_type": "display_data",
          "data": {
            "image/png": "[encoded data removed]",
            "text/plain": [
              "<Figure size 432x288 with 1 Axes>"
            ]
          },
          "metadata": {
            "tags": [],
            "needs_background": "light"
          }
        },
        {
          "output_type": "display_data",
          "data": {
            "image/png": "[encoded data removed]",
            "text/plain": [
              "<Figure size 432x288 with 1 Axes>"
            ]
          },
          "metadata": {
            "tags": [],
            "needs_background": "light"
          }
        },
        {
          "output_type": "display_data",
          "data": {
            "image/png": "[encoded data removed]",
            "text/plain": [
              "<Figure size 432x288 with 1 Axes>"
            ]
          },
          "metadata": {
            "tags": [],
            "needs_background": "light"
          }
        },
        {
          "output_type": "display_data",
          "data": {
            "image/png": "[encoded data removed]",
            "text/plain": [
              "<Figure size 432x288 with 1 Axes>"
            ]
          },
          "metadata": {
            "tags": [],
            "needs_background": "light"
          }
        },
        {
          "output_type": "display_data",
          "data": {
            "image/png": "[encoded data removed]",
            "text/plain": [
              "<Figure size 432x288 with 1 Axes>"
            ]
          },
          "metadata": {
            "tags": [],
            "needs_background": "light"
          }
        },
        {
          "output_type": "display_data",
          "data": {
            "image/png": "[encoded data removed]",
            "text/plain": [
              "<Figure size 432x288 with 1 Axes>"
            ]
          },
          "metadata": {
            "tags": [],
            "needs_background": "light"
          }
        },
        {
          "output_type": "display_data",
          "data": {
            "image/png": "[encoded data removed]",
            "text/plain": [
              "<Figure size 432x288 with 1 Axes>"
            ]
          },
          "metadata": {
            "tags": [],
            "needs_background": "light"
          }
        }
      ]
    },
    {
      "cell_type": "code",
      "metadata": {
        "colab": {
          "base_uri": "https://localhost:8080/",
          "height": 351
        },
        "id": "b0MWXH-Eqm55",
        "outputId": "209d3928-d933-4ea3-a5ab-6841dc737d3c"
      },
      "source": [
        "corrMatrix = DF1.corr()\n",
        "sn.heatmap(corrMatrix, annot=True)\n",
        "plt.show()"
      ],
      "execution_count": null,
      "outputs": [
        {
          "output_type": "display_data",
          "data": {
            "image/png": "[encoded data removed]",
            "text/plain": [
              "<Figure size 432x288 with 2 Axes>"
            ]
          },
          "metadata": {
            "tags": [],
            "needs_background": "light"
          }
        }
      ]
    },
    {
      "cell_type": "code",
      "metadata": {
        "colab": {
          "base_uri": "https://localhost:8080/",
          "height": 280
        },
        "id": "b5yKR2spDnuu",
        "outputId": "0e8de6ee-5926-4fd0-b726-483b022080c3"
      },
      "source": [
        "import matplotlib.pyplot as plt\n",
        "plt.scatter(DF1['Price'],DF1['Kilometers_Driven']);\n",
        "plt.ylabel('Kilometers');\n",
        "plt.xlabel('Price');"
      ],
      "execution_count": null,
      "outputs": [
        {
          "output_type": "display_data",
          "data": {
            "image/png": "[encoded data removed]",
            "text/plain": [
              "<Figure size 432x288 with 1 Axes>"
            ]
          },
          "metadata": {
            "tags": [],
            "needs_background": "light"
          }
        }
      ]
    },
    {
      "cell_type": "code",
      "metadata": {
        "colab": {
          "base_uri": "https://localhost:8080/",
          "height": 283
        },
        "id": "i3HIRoXrEnzx",
        "outputId": "8b7f8154-67b4-433b-a517-8da87ef6b912"
      },
      "source": [
        "import matplotlib.pyplot as plt\n",
        "plt.scatter(DF1['Price'],DF1['Year']);\n",
        "plt.xlabel('Price');\n",
        "plt.ylabel('Year');"
      ],
      "execution_count": null,
      "outputs": [
        {
          "output_type": "display_data",
          "data": {
            "image/png": "[encoded data removed]",
            "text/plain": [
              "<Figure size 432x288 with 1 Axes>"
            ]
          },
          "metadata": {
            "tags": [],
            "needs_background": "light"
          }
        }
      ]
    },
    {
      "cell_type": "code",
      "metadata": {
        "colab": {
          "base_uri": "https://localhost:8080/",
          "height": 279
        },
        "id": "Vp8JxLjUfIPP",
        "outputId": "6507b6f3-d102-4587-d9b4-3556ea587539"
      },
      "source": [
        "import matplotlib.pyplot as plt\n",
        "plt.scatter(DF1['Seats'],DF1['Price']);\n",
        "plt.xlabel('Seats');\n",
        "plt.ylabel('Price');"
      ],
      "execution_count": null,
      "outputs": [
        {
          "output_type": "display_data",
          "data": {
            "image/png": "[encoded data removed]",
            "text/plain": [
              "<Figure size 432x288 with 1 Axes>"
            ]
          },
          "metadata": {
            "tags": [],
            "needs_background": "light"
          }
        }
      ]
    },
    {
      "cell_type": "markdown",
      "metadata": {
        "id": "C33T-c5slyaP"
      },
      "source": [
        "prediction - price proposal"
      ]
    },
    {
      "cell_type": "code",
      "metadata": {
        "id": "ZXNqLKkWlKYI"
      },
      "source": [
        "X = DF1[['Year','Kilometers_Driven','Mileage','Engine','Seats','Power']]\n",
        "y = DF1['Price']"
      ],
      "execution_count": null,
      "outputs": []
    },
    {
      "cell_type": "code",
      "metadata": {
        "id": "GEx4xulAnwL1",
        "colab": {
          "base_uri": "https://localhost:8080/"
        },
        "outputId": "81dc3001-4eb7-4c45-a3a8-73a6991be8f8"
      },
      "source": [
        "import numpy as np\n",
        "X.shape"
      ],
      "execution_count": null,
      "outputs": [
        {
          "output_type": "execute_result",
          "data": {
            "text/plain": [
              "(5871, 6)"
            ]
          },
          "metadata": {
            "tags": []
          },
          "execution_count": 252
        }
      ]
    },
    {
      "cell_type": "code",
      "metadata": {
        "colab": {
          "base_uri": "https://localhost:8080/"
        },
        "id": "mrT3hhX6Fb3T",
        "outputId": "2c3df8d8-16f2-4c36-dabe-a9dbca546500"
      },
      "source": [
        "import numpy as np\n",
        "y.shape"
      ],
      "execution_count": null,
      "outputs": [
        {
          "output_type": "execute_result",
          "data": {
            "text/plain": [
              "(5871,)"
            ]
          },
          "metadata": {
            "tags": []
          },
          "execution_count": 253
        }
      ]
    },
    {
      "cell_type": "code",
      "metadata": {
        "id": "f8DJYU5Gl0Q3",
        "colab": {
          "base_uri": "https://localhost:8080/"
        },
        "outputId": "26b670a3-b424-4f51-f73f-0bb226aadf87"
      },
      "source": [
        "X_train, X_test, y_train, y_test = train_test_split(X, y, train_size=0.7, random_state=451816)\n",
        "print(X_train.shape)\n",
        "print(y_train.shape)\n",
        "print(X_test.shape)\n",
        "print(y_test.shape)"
      ],
      "execution_count": null,
      "outputs": [
        {
          "output_type": "stream",
          "text": [
            "(4109, 6)\n",
            "(4109,)\n",
            "(1762, 6)\n",
            "(1762,)\n"
          ],
          "name": "stdout"
        }
      ]
    },
    {
      "cell_type": "markdown",
      "metadata": {
        "id": "XOGIAE8GFr3d"
      },
      "source": [
        "DecisionTreeRegressor"
      ]
    },
    {
      "cell_type": "code",
      "metadata": {
        "colab": {
          "base_uri": "https://localhost:8080/"
        },
        "id": "Bh0Nw4ddwGUk",
        "outputId": "4dd1cf36-dc00-4537-9b29-b13d5fe3c63c"
      },
      "source": [
        "# hold_out\n",
        "\n",
        "from sklearn.tree import DecisionTreeRegressor\n",
        "from sklearn.metrics import mean_absolute_error\n",
        "\n",
        "DT_Regressor = DecisionTreeRegressor(max_depth=12, random_state=2)\n",
        "DT_Regressor.fit(X_train, y_train)\n",
        "y_pred_DT_train = DT_Regressor.predict(X_train)\n",
        "y_pred_DT_test = DT_Regressor.predict(X_test)\n",
        "print('train mae: {}'.format(mean_absolute_error(y_train, y_pred_DT_train)))\n",
        "print('test mae: {}'.format(mean_absolute_error(y_test, y_pred_DT_test)))\n",
        "\n",
        "predTest= pd.DataFrame(y_pred_DT_test, columns=['predictions'])\n",
        "print(predTest.describe())    "
      ],
      "execution_count": null,
      "outputs": [
        {
          "output_type": "stream",
          "text": [
            "train mae: 0.6129372293527531\n",
            "test mae: 2.104428759673246\n",
            "       predictions\n",
            "count  1762.000000\n",
            "mean      9.613877\n",
            "std      11.607721\n",
            "min       0.490000\n",
            "25%       3.807073\n",
            "50%       5.623421\n",
            "75%       9.905714\n",
            "max     160.000000\n"
          ],
          "name": "stdout"
        }
      ]
    },
    {
      "cell_type": "code",
      "metadata": {
        "colab": {
          "base_uri": "https://localhost:8080/"
        },
        "id": "OD7LIsYZypn6",
        "outputId": "3c455243-bc95-4da6-f75b-4d29e53d80c4"
      },
      "source": [
        "# 10-fold cross validation\n",
        "\n",
        "from sklearn.model_selection import cross_val_score\n",
        "from sklearn.metrics import mean_absolute_error, make_scorer\n",
        "\n",
        "scorer= make_scorer(mean_absolute_error)\n",
        "kfold_DT= cross_val_score(estimator = DT_Regressor, X=DF1.drop(columns=['Price']), y= DF1['Price'],cv=10, scoring=scorer)\n",
        "print(kfold_DT)\n",
        "print('the mean is: {}'.format(kfold_DT.mean()))\n",
        "print('the std is: {}'.format(kfold_DT.std()))"
      ],
      "execution_count": null,
      "outputs": [
        {
          "output_type": "stream",
          "text": [
            "[2.25258693 2.01041792 2.30014882 2.02230246 1.72388385 1.86406623\n",
            " 1.81584954 1.94464136 2.09374054 2.14960919]\n",
            "the mean is: 2.01772468404324\n",
            "the std is: 0.17726196601618843\n"
          ],
          "name": "stdout"
        }
      ]
    },
    {
      "cell_type": "code",
      "metadata": {
        "colab": {
          "base_uri": "https://localhost:8080/"
        },
        "id": "mv1dDGW3yqLS",
        "outputId": "b7e22a98-a0cb-452d-8da4-67d26aff8571"
      },
      "source": [
        "# Leave-One-Out \n",
        "\n",
        "from tqdm import tqdm\n",
        "\n",
        "for i in tqdm(range(1)):\n",
        "  CV_DT= cross_val_score(estimator = DT_Regressor, X=DF1.drop(columns=['Price']), y= DF1['Price'],cv=DF1.shape[0], scoring=scorer)\n",
        "  print('\\n',CV_DT)\n",
        "  print('the mean is: {}'.format(CV_DT.mean()))\n",
        "  print('the std is:{}'.format(CV_DT.std()))"
      ],
      "execution_count": null,
      "outputs": [
        {
          "output_type": "stream",
          "text": [
            "\n",
            "\n",
            "\n",
            "\n",
            "\n",
            "\n",
            "\n",
            "  0%|          | 0/1 [00:00<?, ?it/s]\u001b[A\u001b[A\u001b[A\u001b[A\u001b[A\u001b[A\u001b[A\n",
            "\n",
            "\n",
            "\n",
            "\n",
            "\n",
            "\n",
            "100%|██████████| 1/1 [02:12<00:00, 132.73s/it]"
          ],
          "name": "stderr"
        },
        {
          "output_type": "stream",
          "text": [
            "\n",
            " [0.14444444 0.05       1.73666667 ... 3.22       0.48538462 0.12571429]\n",
            "the mean is: 2.04386079325779\n",
            "the std is:5.050447706190823\n"
          ],
          "name": "stdout"
        },
        {
          "output_type": "stream",
          "text": [
            "\n"
          ],
          "name": "stderr"
        }
      ]
    },
    {
      "cell_type": "markdown",
      "metadata": {
        "id": "KId31soLmeqm"
      },
      "source": [
        "RandomForestRegressor"
      ]
    },
    {
      "cell_type": "code",
      "metadata": {
        "colab": {
          "base_uri": "https://localhost:8080/"
        },
        "id": "F3q8SPC53sa5",
        "outputId": "3fbd0ebf-d5ef-4654-ad39-2224fed79c26"
      },
      "source": [
        "# hold_out\n",
        "\n",
        "from sklearn.ensemble import RandomForestRegressor\n",
        "from sklearn.metrics import mean_absolute_error\n",
        "\n",
        "RF_Regressor = RandomForestRegressor(n_estimators=100)\n",
        "RF_Regressor.fit(X_train, y_train)\n",
        "y_pred_RF_train = RF_Regressor.predict(X_train)\n",
        "y_pred_RF_test = RF_Regressor.predict(X_test)\n",
        "print('train mae: {}'.format(mean_absolute_error(y_train, y_pred_RF_train)))\n",
        "print('test mae: {}'.format(mean_absolute_error(y_test, y_pred_RF_test)))\n",
        "\n",
        "predTest= pd.DataFrame(y_pred_RF_test, columns=['predictions'])\n",
        "print(predTest.describe())    "
      ],
      "execution_count": null,
      "outputs": [
        {
          "output_type": "stream",
          "text": [
            "train mae: 0.6394474565703625\n",
            "test mae: 1.696083484000865\n",
            "       predictions\n",
            "count  1762.000000\n",
            "mean      9.564989\n",
            "std      10.543208\n",
            "min       0.575020\n",
            "25%       3.784300\n",
            "50%       5.800400\n",
            "75%      10.393825\n",
            "max     100.072200\n"
          ],
          "name": "stdout"
        }
      ]
    },
    {
      "cell_type": "code",
      "metadata": {
        "colab": {
          "base_uri": "https://localhost:8080/"
        },
        "id": "U1m51y-s4eqo",
        "outputId": "bb4b9cd3-3c37-44dc-edc1-59e7ba10136c"
      },
      "source": [
        "# 10-fold cross validation\n",
        "\n",
        "from sklearn.model_selection import cross_val_score\n",
        "from sklearn.metrics import mean_absolute_error, make_scorer\n",
        "\n",
        "scorer= make_scorer(mean_absolute_error)\n",
        "kfold_RF= cross_val_score(estimator = RF_Regressor, X=DF1.drop(columns=['Price']), y= DF1['Price'], cv=10, scoring=scorer)\n",
        "print(kfold_RF)\n",
        "print('the mean is: {}'.format(kfold_RF.mean()))\n",
        "print('the std is: {}'.format(kfold_RF.std()))"
      ],
      "execution_count": null,
      "outputs": [
        {
          "output_type": "stream",
          "text": [
            "[1.90668678 1.61631163 1.63227743 1.74735788 1.34491173 1.69734634\n",
            " 1.5361124  1.63176222 1.62406663 1.82643843]\n",
            "the mean is: 1.6563271483478967\n",
            "the std is: 0.1472555301457023\n"
          ],
          "name": "stdout"
        }
      ]
    },
    {
      "cell_type": "code",
      "metadata": {
        "id": "0oNh0eGZD5Cw",
        "colab": {
          "base_uri": "https://localhost:8080/"
        },
        "outputId": "50129984-aecf-42a1-b0af-8218311af3a1"
      },
      "source": [
        "# Leave-One-Out \n",
        "\n",
        "from tqdm import tqdm\n",
        "\n",
        "for i in tqdm(range(1)):\n",
        "  CV_RF= cross_val_score(estimator = RF_Regressor, X=DF1.drop(columns=['Price']), y= DF1['Price'], cv=DF1.shape[1], scoring=scorer)\n",
        "  print('\\n',CV_RF)\n",
        "  print('the mean is: {}'.format(CV_RF.mean()))\n",
        "  print('the std is:{}'.format(CV_RF.std()))"
      ],
      "execution_count": null,
      "outputs": [
        {
          "output_type": "stream",
          "text": [
            "\n",
            "\n",
            "\n",
            "\n",
            "\n",
            "\n",
            "\n",
            "  0%|          | 0/1 [00:00<?, ?it/s]\u001b[A\u001b[A\u001b[A\u001b[A\u001b[A\u001b[A\u001b[A\n",
            "\n",
            "\n",
            "\n",
            "\n",
            "\n",
            "\n",
            "100%|██████████| 1/1 [00:11<00:00, 11.08s/it]"
          ],
          "name": "stderr"
        },
        {
          "output_type": "stream",
          "text": [
            "\n",
            " [1.81345934 1.67086679 1.71981225 1.53171717 1.55956497 1.65251617\n",
            " 1.74610883]\n",
            "the mean is: 1.6705779316831155\n",
            "the std is:0.0929489364461229\n"
          ],
          "name": "stdout"
        },
        {
          "output_type": "stream",
          "text": [
            "\n"
          ],
          "name": "stderr"
        }
      ]
    }
  ]
}